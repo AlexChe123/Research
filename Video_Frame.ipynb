{
 "cells": [
  {
   "cell_type": "code",
   "execution_count": 2,
   "metadata": {},
   "outputs": [],
   "source": [
    "import cv2     # for capturing videos\n",
    "import math   # for mathematical operations\n",
    "import matplotlib.pyplot as plt    # for plotting the images \n",
    "import pandas as pd\n",
    "import tensorflow as tf\n",
    "from tensorflow import keras\n",
    "from keras.preprocessing import image   # for preprocessing the images\n",
    "import numpy as np    # for mathematical operations\n",
    "from keras.utils import np_utils\n",
    "from PIL import Image, ImageChops\n",
    "from skimage.metrics import structural_similarity as compare_ssim\n",
    "from skimage import color\n",
    "from skimage import io\n",
    "import argparse\n",
    "from PIL import Image"
   ]
  },
  {
   "cell_type": "code",
   "execution_count": 4,
   "metadata": {},
   "outputs": [
    {
     "name": "stdout",
     "output_type": "stream",
     "text": [
      "Done\n"
     ]
    }
   ],
   "source": [
    "count = 0\n",
    "videoFile = \"0019-scrn.mp4\"\n",
    "cap = cv2.VideoCapture(videoFile)   # capturing the video from the given path\n",
    "frameRate = cap.get(5) #frame rate\n",
    "x = 1\n",
    "while(cap.isOpened()):\n",
    "    frameId = cap.get(1) #current frame number\n",
    "    ret, frame = cap.read()\n",
    "    if (ret != True):\n",
    "        break\n",
    "    if (frameId % math.floor(frameRate) == 0):\n",
    "        filename =\"frame%d.jpg\" % count;count+=1\n",
    "        cv2.imwrite(filename, frame)\n",
    "        \n",
    "cap.release()\n",
    "print (\"Done\")"
   ]
  },
  {
   "cell_type": "code",
   "execution_count": 5,
   "metadata": {},
   "outputs": [
    {
     "name": "stdout",
     "output_type": "stream",
     "text": [
      "437\n"
     ]
    },
    {
     "data": {
      "image/png": "[encoded data removed]",
      "text/plain": [
       "<Figure size 432x288 with 1 Axes>"
      ]
     },
     "metadata": {
      "needs_background": "light"
     },
     "output_type": "display_data"
    }
   ],
   "source": [
    "img = plt.imread('frame0.jpg')   # reading image\n",
    "plt.imshow(img)\n",
    "print(count)"
   ]
  },
  {
   "cell_type": "code",
   "execution_count": 9,
   "metadata": {},
   "outputs": [
    {
     "name": "stdout",
     "output_type": "stream",
     "text": [
      "Number of white pixels: 1703\n",
      "Image IS NOT the same\n"
     ]
    }
   ],
   "source": [
    "img1 = Image.open(\"frame2.jpg\")\n",
    "img2 = Image.open(\"frame3.jpg\")\n",
    "\n",
    "# finding difference\n",
    "diff = ImageChops.difference(img1, img2)\n",
    "# showing the difference\n",
    "diff.show()\n",
    "diff.save(\"BLACK.jpg\")\n",
    "\n",
    "blackImage = cv2.imread(\"BLACK.jpg\", 0)\n",
    "\n",
    "pixel = cv2.imread(\"BLACK.jpg\", cv2.IMREAD_GRAYSCALE)\n",
    "n_white_pix = np.sum(pixel == 255)\n",
    "print('Number of white pixels:', n_white_pix)\n",
    "\n",
    "if n_white_pix == 0:\n",
    "    print(\"Image IS the same\")\n",
    "else:\n",
    "    print(\"Image IS NOT the same\")"
   ]
  },
  {
   "cell_type": "code",
   "execution_count": 6,
   "metadata": {},
   "outputs": [
    {
     "name": "stdout",
     "output_type": "stream",
     "text": [
      "[2, 13, 24, 32, 42, 58, 81, 89, 114, 127, 132, 154, 169, 184, 187, 212, 249, 258, 288, 301, 310, 336, 370, 416]\n"
     ]
    }
   ],
   "source": [
    "Flag = []\n",
    "\n",
    "for i in range(count - 1):\n",
    "    j = i + 1\n",
    "    if j > count - 1:\n",
    "        break\n",
    "    imgOne = Image.open(\"frame%d.jpg\" % i)\n",
    "    imgTwo = Image.open(\"frame%d.jpg\" % j)\n",
    "    # finding difference\n",
    "    diff = ImageChops.difference(imgOne, imgTwo)\n",
    "    # saving the difference image\n",
    "    diff.save(\"BLACK.jpg\")\n",
    "    # checking if the image is full black. Full black == SAME IMAGE == No questions changed\n",
    "    blackImage = cv2.imread(\"BLACK.jpg\", 0)\n",
    "    \n",
    "    pixel = cv2.imread(\"BLACK.jpg\", cv2.IMREAD_GRAYSCALE)\n",
    "    n_white_pix = np.sum(pixel == 255)\n",
    "\n",
    "    if n_white_pix == 0:\n",
    "        continue\n",
    "    else:\n",
    "        Flag.append(i)\n",
    "        \n",
    "print(Flag)"
   ]
  }
 ],
 "metadata": {
  "kernelspec": {
   "display_name": "Python 3",
   "language": "python",
   "name": "python3"
  },
  "language_info": {
   "codemirror_mode": {
    "name": "ipython",
    "version": 3
   },
   "file_extension": ".py",
   "mimetype": "text/x-python",
   "name": "python",
   "nbconvert_exporter": "python",
   "pygments_lexer": "ipython3",
   "version": "3.8.3"
  }
 },
 "nbformat": 4,
 "nbformat_minor": 4
}
